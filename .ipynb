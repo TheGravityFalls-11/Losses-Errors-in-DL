{
 "cells": [
  {
   "cell_type": "code",
   "execution_count": 2,
   "id": "c1229a5e",
   "metadata": {},
   "outputs": [],
   "source": [
    "import numpy as np\n",
    "import matplotlib.pyplot as plt"
   ]
  },
  {
   "cell_type": "code",
   "execution_count": 3,
   "id": "e2e578e3",
   "metadata": {},
   "outputs": [],
   "source": [
    "y_predicted=np.array([1,1,0,0,1])\n",
    "y_true=np.array([0.30,0.7,1,0,0.5])\n",
    "\n"
   ]
  },
  {
   "cell_type": "code",
   "execution_count": 4,
   "id": "ad774d95",
   "metadata": {},
   "outputs": [],
   "source": [
    "def mae(y_true,y_predicted):\n",
    "    total_error=0\n",
    "    for yt,yp in zip(y_true,y_predicted):\n",
    "        total_error+=abs(yt-yp)\n",
    "        print(\"Total error\",total_error)\n",
    "    mae=total_error/len(y_true)\n",
    "    print(\"Mae\",mae)\n",
    "    return mae"
   ]
  },
  {
   "cell_type": "code",
   "execution_count": 6,
   "id": "d256f34f",
   "metadata": {},
   "outputs": [
    {
     "name": "stdout",
     "output_type": "stream",
     "text": [
      "Total error 0.7\n",
      "Total error 1.0\n",
      "Total error 2.0\n",
      "Total error 2.0\n",
      "Total error 2.5\n",
      "Mae 0.5\n"
     ]
    },
    {
     "data": {
      "text/plain": [
       "np.float64(0.5)"
      ]
     },
     "execution_count": 6,
     "metadata": {},
     "output_type": "execute_result"
    }
   ],
   "source": [
    "mae(y_true,y_predicted)"
   ]
  },
  {
   "cell_type": "code",
   "execution_count": 7,
   "id": "f0d2c337",
   "metadata": {},
   "outputs": [
    {
     "data": {
      "text/plain": [
       "np.float64(0.5)"
      ]
     },
     "execution_count": 7,
     "metadata": {},
     "output_type": "execute_result"
    }
   ],
   "source": [
    "np.mean(np.abs(y_true-y_predicted))"
   ]
  },
  {
   "cell_type": "code",
   "execution_count": 8,
   "id": "8214a127",
   "metadata": {},
   "outputs": [
    {
     "data": {
      "text/plain": [
       "[np.int64(1), np.int64(1), 1e-15, 1e-15, np.int64(1)]"
      ]
     },
     "execution_count": 8,
     "metadata": {},
     "output_type": "execute_result"
    }
   ],
   "source": [
    "#log loss or Binary entropy\n",
    "epsilon=1e-15\n",
    "y_predicted_new=[max(i,epsilon) for i in y_predicted]\n",
    "y_predicted_new\n"
   ]
  },
  {
   "cell_type": "code",
   "execution_count": 9,
   "id": "61710124",
   "metadata": {},
   "outputs": [
    {
     "data": {
      "text/plain": [
       "[0.999999999999999, 0.999999999999999, 1e-15, 1e-15, 0.999999999999999]"
      ]
     },
     "execution_count": 9,
     "metadata": {},
     "output_type": "execute_result"
    }
   ],
   "source": [
    "y_predicted_new=[min(i,1-epsilon) for i in y_predicted_new]\n",
    "y_predicted_new"
   ]
  },
  {
   "cell_type": "code",
   "execution_count": 10,
   "id": "f6e6fbf7",
   "metadata": {},
   "outputs": [],
   "source": [
    "y_predicted_new=np.array(y_predicted_new)"
   ]
  },
  {
   "cell_type": "code",
   "execution_count": 11,
   "id": "723c0908",
   "metadata": {},
   "outputs": [
    {
     "data": {
      "text/plain": [
       "np.float64(17.2696280766844)"
      ]
     },
     "execution_count": 11,
     "metadata": {},
     "output_type": "execute_result"
    }
   ],
   "source": [
    "-np.mean(y_true*np.log(y_predicted_new)+(1-y_true)* np.log(1-y_predicted_new))"
   ]
  },
  {
   "cell_type": "code",
   "execution_count": 12,
   "id": "af31c274",
   "metadata": {},
   "outputs": [],
   "source": [
    "def log_loss(y_true,y_predicted):\n",
    "    epsilon=1e-15\n",
    "    y_predicted_new=[max(i,epsilon) for i in y_predicted]\n",
    "    y_predicted_new=[min(i,1-epsilon) for i in y_predicted_new]\n",
    "    y_predicted_new=np.array(y_predicted_new)\n",
    "    return -np.mean(y_true* np.log(y_predicted_new)+(1-y_true)* np.log(1-y_predicted_new))"
   ]
  },
  {
   "cell_type": "code",
   "execution_count": 13,
   "id": "926f8240",
   "metadata": {},
   "outputs": [
    {
     "data": {
      "text/plain": [
       "np.float64(17.2696280766844)"
      ]
     },
     "execution_count": 13,
     "metadata": {},
     "output_type": "execute_result"
    }
   ],
   "source": [
    "log_loss(y_true,y_predicted)"
   ]
  },
  {
   "cell_type": "code",
   "execution_count": 15,
   "id": "6479772b",
   "metadata": {},
   "outputs": [
    {
     "data": {
      "text/plain": [
       "np.float64(0.366)"
      ]
     },
     "execution_count": 15,
     "metadata": {},
     "output_type": "execute_result"
    }
   ],
   "source": [
    "#mean_squared_error\n",
    "np.mean((y_true-y_predicted)**2)"
   ]
  },
  {
   "cell_type": "code",
   "execution_count": 16,
   "id": "560c4178",
   "metadata": {},
   "outputs": [],
   "source": [
    "def mse(y_true,y_predicted):\n",
    "    total_error=0\n",
    "    for yt,yp in zip(y_true,y_predicted):\n",
    "        total_error+=abs(yt-yp)**2\n",
    "        print(\"Total error\",total_error)\n",
    "    mse=total_error/len(y_true)\n",
    "    print(\"Mae\",mse)\n",
    "    return mse"
   ]
  },
  {
   "cell_type": "code",
   "execution_count": 17,
   "id": "b0debcfa",
   "metadata": {},
   "outputs": [
    {
     "name": "stdout",
     "output_type": "stream",
     "text": [
      "Total error 0.48999999999999994\n",
      "Total error 0.58\n",
      "Total error 1.58\n",
      "Total error 1.58\n",
      "Total error 1.83\n",
      "Mae 0.366\n"
     ]
    },
    {
     "data": {
      "text/plain": [
       "np.float64(0.366)"
      ]
     },
     "execution_count": 17,
     "metadata": {},
     "output_type": "execute_result"
    }
   ],
   "source": [
    "mse(y_true,y_predicted)"
   ]
  },
  {
   "cell_type": "code",
   "execution_count": 19,
   "id": "b2995f8d",
   "metadata": {},
   "outputs": [],
   "source": [
    "def huber(y_true, y_predicted, delta=0.5):\n",
    "    total_error = 0\n",
    "    for yt, yp in zip(y_true, y_predicted):\n",
    "        error = yt - yp\n",
    "        if abs(error) <= delta:\n",
    "            loss = 0.5 * error**2\n",
    "        else:\n",
    "            loss = delta * (abs(error) - 0.5 * delta)\n",
    "        total_error += loss\n",
    "    huber_loss = total_error / len(y_true)\n",
    "    print(\"Huber Loss:\", huber_loss)\n",
    "    return huber_loss\n"
   ]
  },
  {
   "cell_type": "code",
   "execution_count": 20,
   "id": "b135ac68",
   "metadata": {},
   "outputs": [
    {
     "name": "stdout",
     "output_type": "stream",
     "text": [
      "Huber Loss: 0.154\n"
     ]
    },
    {
     "data": {
      "text/plain": [
       "np.float64(0.154)"
      ]
     },
     "execution_count": 20,
     "metadata": {},
     "output_type": "execute_result"
    }
   ],
   "source": [
    "huber(y_true, y_predicted, delta=0.5)"
   ]
  },
  {
   "cell_type": "code",
   "execution_count": 33,
   "id": "15b57808",
   "metadata": {},
   "outputs": [],
   "source": [
    "def categorical_crossentropy(y_true,y_predicted):\n",
    "    epsilon=1e-15\n",
    "    y_predicted_new=[max(i,epsilon) for i in y_predicted]\n",
    "    y_predicted_new=[min(i,1-epsilon) for i in y_predicted_new]\n",
    "    y_predicted_new=np.array(y_predicted_new)\n",
    "    loss_per_sample = -np.sum(y_true * np.log(y_predicted_new))\n",
    "    return np.mean(loss_per_sample)"
   ]
  },
  {
   "cell_type": "code",
   "execution_count": 34,
   "id": "d1fc2681",
   "metadata": {},
   "outputs": [
    {
     "data": {
      "text/plain": [
       "np.float64(34.538776394910684)"
      ]
     },
     "execution_count": 34,
     "metadata": {},
     "output_type": "execute_result"
    }
   ],
   "source": [
    "categorical_crossentropy(y_true,y_predicted)"
   ]
  },
  {
   "cell_type": "code",
   "execution_count": null,
   "id": "5e8a75ed",
   "metadata": {},
   "outputs": [],
   "source": []
  }
 ],
 "metadata": {
  "kernelspec": {
   "display_name": "Python 3",
   "language": "python",
   "name": "python3"
  },
  "language_info": {
   "codemirror_mode": {
    "name": "ipython",
    "version": 3
   },
   "file_extension": ".py",
   "mimetype": "text/x-python",
   "name": "python",
   "nbconvert_exporter": "python",
   "pygments_lexer": "ipython3",
   "version": "3.12.4"
  }
 },
 "nbformat": 4,
 "nbformat_minor": 5
}
